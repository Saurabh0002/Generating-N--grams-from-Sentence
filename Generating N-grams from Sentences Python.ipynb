{
 "cells": [
  {
   "cell_type": "code",
   "execution_count": 1,
   "metadata": {},
   "outputs": [],
   "source": [
    "import re"
   ]
  },
  {
   "cell_type": "code",
   "execution_count": 2,
   "metadata": {},
   "outputs": [],
   "source": [
    "from nltk.util import ngrams"
   ]
  },
  {
   "cell_type": "code",
   "execution_count": 3,
   "metadata": {},
   "outputs": [],
   "source": [
    "s = \"15 October 1931 – 27 July 2015) was an aerospace scientist who served as the 11th President of India from 2002 to 2007. He was born and raised in Rameswaram, Tamil Nadu and studied physics and aerospace engineering. He spent the next four decades as a scientist and science administrator, mainly at the Defence Research and Development Organisation (DRDO) and Indian Space Research Organisation (ISRO) and was intimately involved in India's civilian space programme and military missile development efforts.[1] He thus came to be known as the Missile Man of India for his work on the development of ballistic missile and launch vehicle technology.[2][3][4] He also played a pivotal organisational, technical, and political role in India's Pokhran-II nuclear tests in 1998, the first since the original nuclear test by India in 1974.[5]\""
   ]
  },
  {
   "cell_type": "code",
   "execution_count": 4,
   "metadata": {},
   "outputs": [
    {
     "name": "stdout",
     "output_type": "stream",
     "text": [
      "15 October 1931 – 27 July 2015) was an aerospace scientist who served as the 11th President of India from 2002 to 2007. He was born and raised in Rameswaram, Tamil Nadu and studied physics and aerospace engineering. He spent the next four decades as a scientist and science administrator, mainly at the Defence Research and Development Organisation (DRDO) and Indian Space Research Organisation (ISRO) and was intimately involved in India's civilian space programme and military missile development efforts.[1] He thus came to be known as the Missile Man of India for his work on the development of ballistic missile and launch vehicle technology.[2][3][4] He also played a pivotal organisational, technical, and political role in India's Pokhran-II nuclear tests in 1998, the first since the original nuclear test by India in 1974.[5]\n"
     ]
    }
   ],
   "source": [
    "print(s)"
   ]
  },
  {
   "cell_type": "code",
   "execution_count": 5,
   "metadata": {},
   "outputs": [
    {
     "data": {
      "text/plain": [
       "\"15 october 1931 – 27 july 2015) was an aerospace scientist who served as the 11th president of india from 2002 to 2007. he was born and raised in rameswaram, tamil nadu and studied physics and aerospace engineering. he spent the next four decades as a scientist and science administrator, mainly at the defence research and development organisation (drdo) and indian space research organisation (isro) and was intimately involved in india's civilian space programme and military missile development efforts.[1] he thus came to be known as the missile man of india for his work on the development of ballistic missile and launch vehicle technology.[2][3][4] he also played a pivotal organisational, technical, and political role in india's pokhran-ii nuclear tests in 1998, the first since the original nuclear test by india in 1974.[5]\""
      ]
     },
     "execution_count": 5,
     "metadata": {},
     "output_type": "execute_result"
    }
   ],
   "source": [
    "s = s.lower()\n",
    "s"
   ]
  },
  {
   "cell_type": "code",
   "execution_count": 6,
   "metadata": {},
   "outputs": [
    {
     "data": {
      "text/plain": [
       "'15 october 1931   27 july 2015  was an aerospace scientist who served as the 11th president of india from 2002 to 2007  he was born and raised in rameswaram  tamil nadu and studied physics and aerospace engineering  he spent the next four decades as a scientist and science administrator  mainly at the defence research and development organisation  drdo  and indian space research organisation  isro  and was intimately involved in india s civilian space programme and military missile development efforts  1  he thus came to be known as the missile man of india for his work on the development of ballistic missile and launch vehicle technology  2  3  4  he also played a pivotal organisational  technical  and political role in india s pokhran ii nuclear tests in 1998  the first since the original nuclear test by india in 1974  5 '"
      ]
     },
     "execution_count": 6,
     "metadata": {},
     "output_type": "execute_result"
    }
   ],
   "source": [
    "s = re.sub(r'[^a-zA-Z0-9\\s]', ' ', s)\n",
    "s"
   ]
  },
  {
   "cell_type": "code",
   "execution_count": 7,
   "metadata": {},
   "outputs": [
    {
     "data": {
      "text/plain": [
       "['15',\n",
       " 'october',\n",
       " '1931',\n",
       " '27',\n",
       " 'july',\n",
       " '2015',\n",
       " 'was',\n",
       " 'an',\n",
       " 'aerospace',\n",
       " 'scientist',\n",
       " 'who',\n",
       " 'served',\n",
       " 'as',\n",
       " 'the',\n",
       " '11th',\n",
       " 'president',\n",
       " 'of',\n",
       " 'india',\n",
       " 'from',\n",
       " '2002',\n",
       " 'to',\n",
       " '2007',\n",
       " 'he',\n",
       " 'was',\n",
       " 'born',\n",
       " 'and',\n",
       " 'raised',\n",
       " 'in',\n",
       " 'rameswaram',\n",
       " 'tamil',\n",
       " 'nadu',\n",
       " 'and',\n",
       " 'studied',\n",
       " 'physics',\n",
       " 'and',\n",
       " 'aerospace',\n",
       " 'engineering',\n",
       " 'he',\n",
       " 'spent',\n",
       " 'the',\n",
       " 'next',\n",
       " 'four',\n",
       " 'decades',\n",
       " 'as',\n",
       " 'a',\n",
       " 'scientist',\n",
       " 'and',\n",
       " 'science',\n",
       " 'administrator',\n",
       " 'mainly',\n",
       " 'at',\n",
       " 'the',\n",
       " 'defence',\n",
       " 'research',\n",
       " 'and',\n",
       " 'development',\n",
       " 'organisation',\n",
       " 'drdo',\n",
       " 'and',\n",
       " 'indian',\n",
       " 'space',\n",
       " 'research',\n",
       " 'organisation',\n",
       " 'isro',\n",
       " 'and',\n",
       " 'was',\n",
       " 'intimately',\n",
       " 'involved',\n",
       " 'in',\n",
       " 'india',\n",
       " 's',\n",
       " 'civilian',\n",
       " 'space',\n",
       " 'programme',\n",
       " 'and',\n",
       " 'military',\n",
       " 'missile',\n",
       " 'development',\n",
       " 'efforts',\n",
       " '1',\n",
       " 'he',\n",
       " 'thus',\n",
       " 'came',\n",
       " 'to',\n",
       " 'be',\n",
       " 'known',\n",
       " 'as',\n",
       " 'the',\n",
       " 'missile',\n",
       " 'man',\n",
       " 'of',\n",
       " 'india',\n",
       " 'for',\n",
       " 'his',\n",
       " 'work',\n",
       " 'on',\n",
       " 'the',\n",
       " 'development',\n",
       " 'of',\n",
       " 'ballistic',\n",
       " 'missile',\n",
       " 'and',\n",
       " 'launch',\n",
       " 'vehicle',\n",
       " 'technology',\n",
       " '2',\n",
       " '3',\n",
       " '4',\n",
       " 'he',\n",
       " 'also',\n",
       " 'played',\n",
       " 'a',\n",
       " 'pivotal',\n",
       " 'organisational',\n",
       " 'technical',\n",
       " 'and',\n",
       " 'political',\n",
       " 'role',\n",
       " 'in',\n",
       " 'india',\n",
       " 's',\n",
       " 'pokhran',\n",
       " 'ii',\n",
       " 'nuclear',\n",
       " 'tests',\n",
       " 'in',\n",
       " '1998',\n",
       " 'the',\n",
       " 'first',\n",
       " 'since',\n",
       " 'the',\n",
       " 'original',\n",
       " 'nuclear',\n",
       " 'test',\n",
       " 'by',\n",
       " 'india',\n",
       " 'in',\n",
       " '1974',\n",
       " '5']"
      ]
     },
     "execution_count": 7,
     "metadata": {},
     "output_type": "execute_result"
    }
   ],
   "source": [
    "tokens = [token for token in s.split(\" \") if token != \"\"]\n",
    "tokens\n"
   ]
  },
  {
   "cell_type": "code",
   "execution_count": 8,
   "metadata": {},
   "outputs": [],
   "source": [
    "output = list(ngrams(tokens, 5))"
   ]
  },
  {
   "cell_type": "code",
   "execution_count": 9,
   "metadata": {},
   "outputs": [
    {
     "name": "stdout",
     "output_type": "stream",
     "text": [
      "[('15', 'october', '1931', '27', 'july'), ('october', '1931', '27', 'july', '2015'), ('1931', '27', 'july', '2015', 'was'), ('27', 'july', '2015', 'was', 'an'), ('july', '2015', 'was', 'an', 'aerospace'), ('2015', 'was', 'an', 'aerospace', 'scientist'), ('was', 'an', 'aerospace', 'scientist', 'who'), ('an', 'aerospace', 'scientist', 'who', 'served'), ('aerospace', 'scientist', 'who', 'served', 'as'), ('scientist', 'who', 'served', 'as', 'the'), ('who', 'served', 'as', 'the', '11th'), ('served', 'as', 'the', '11th', 'president'), ('as', 'the', '11th', 'president', 'of'), ('the', '11th', 'president', 'of', 'india'), ('11th', 'president', 'of', 'india', 'from'), ('president', 'of', 'india', 'from', '2002'), ('of', 'india', 'from', '2002', 'to'), ('india', 'from', '2002', 'to', '2007'), ('from', '2002', 'to', '2007', 'he'), ('2002', 'to', '2007', 'he', 'was'), ('to', '2007', 'he', 'was', 'born'), ('2007', 'he', 'was', 'born', 'and'), ('he', 'was', 'born', 'and', 'raised'), ('was', 'born', 'and', 'raised', 'in'), ('born', 'and', 'raised', 'in', 'rameswaram'), ('and', 'raised', 'in', 'rameswaram', 'tamil'), ('raised', 'in', 'rameswaram', 'tamil', 'nadu'), ('in', 'rameswaram', 'tamil', 'nadu', 'and'), ('rameswaram', 'tamil', 'nadu', 'and', 'studied'), ('tamil', 'nadu', 'and', 'studied', 'physics'), ('nadu', 'and', 'studied', 'physics', 'and'), ('and', 'studied', 'physics', 'and', 'aerospace'), ('studied', 'physics', 'and', 'aerospace', 'engineering'), ('physics', 'and', 'aerospace', 'engineering', 'he'), ('and', 'aerospace', 'engineering', 'he', 'spent'), ('aerospace', 'engineering', 'he', 'spent', 'the'), ('engineering', 'he', 'spent', 'the', 'next'), ('he', 'spent', 'the', 'next', 'four'), ('spent', 'the', 'next', 'four', 'decades'), ('the', 'next', 'four', 'decades', 'as'), ('next', 'four', 'decades', 'as', 'a'), ('four', 'decades', 'as', 'a', 'scientist'), ('decades', 'as', 'a', 'scientist', 'and'), ('as', 'a', 'scientist', 'and', 'science'), ('a', 'scientist', 'and', 'science', 'administrator'), ('scientist', 'and', 'science', 'administrator', 'mainly'), ('and', 'science', 'administrator', 'mainly', 'at'), ('science', 'administrator', 'mainly', 'at', 'the'), ('administrator', 'mainly', 'at', 'the', 'defence'), ('mainly', 'at', 'the', 'defence', 'research'), ('at', 'the', 'defence', 'research', 'and'), ('the', 'defence', 'research', 'and', 'development'), ('defence', 'research', 'and', 'development', 'organisation'), ('research', 'and', 'development', 'organisation', 'drdo'), ('and', 'development', 'organisation', 'drdo', 'and'), ('development', 'organisation', 'drdo', 'and', 'indian'), ('organisation', 'drdo', 'and', 'indian', 'space'), ('drdo', 'and', 'indian', 'space', 'research'), ('and', 'indian', 'space', 'research', 'organisation'), ('indian', 'space', 'research', 'organisation', 'isro'), ('space', 'research', 'organisation', 'isro', 'and'), ('research', 'organisation', 'isro', 'and', 'was'), ('organisation', 'isro', 'and', 'was', 'intimately'), ('isro', 'and', 'was', 'intimately', 'involved'), ('and', 'was', 'intimately', 'involved', 'in'), ('was', 'intimately', 'involved', 'in', 'india'), ('intimately', 'involved', 'in', 'india', 's'), ('involved', 'in', 'india', 's', 'civilian'), ('in', 'india', 's', 'civilian', 'space'), ('india', 's', 'civilian', 'space', 'programme'), ('s', 'civilian', 'space', 'programme', 'and'), ('civilian', 'space', 'programme', 'and', 'military'), ('space', 'programme', 'and', 'military', 'missile'), ('programme', 'and', 'military', 'missile', 'development'), ('and', 'military', 'missile', 'development', 'efforts'), ('military', 'missile', 'development', 'efforts', '1'), ('missile', 'development', 'efforts', '1', 'he'), ('development', 'efforts', '1', 'he', 'thus'), ('efforts', '1', 'he', 'thus', 'came'), ('1', 'he', 'thus', 'came', 'to'), ('he', 'thus', 'came', 'to', 'be'), ('thus', 'came', 'to', 'be', 'known'), ('came', 'to', 'be', 'known', 'as'), ('to', 'be', 'known', 'as', 'the'), ('be', 'known', 'as', 'the', 'missile'), ('known', 'as', 'the', 'missile', 'man'), ('as', 'the', 'missile', 'man', 'of'), ('the', 'missile', 'man', 'of', 'india'), ('missile', 'man', 'of', 'india', 'for'), ('man', 'of', 'india', 'for', 'his'), ('of', 'india', 'for', 'his', 'work'), ('india', 'for', 'his', 'work', 'on'), ('for', 'his', 'work', 'on', 'the'), ('his', 'work', 'on', 'the', 'development'), ('work', 'on', 'the', 'development', 'of'), ('on', 'the', 'development', 'of', 'ballistic'), ('the', 'development', 'of', 'ballistic', 'missile'), ('development', 'of', 'ballistic', 'missile', 'and'), ('of', 'ballistic', 'missile', 'and', 'launch'), ('ballistic', 'missile', 'and', 'launch', 'vehicle'), ('missile', 'and', 'launch', 'vehicle', 'technology'), ('and', 'launch', 'vehicle', 'technology', '2'), ('launch', 'vehicle', 'technology', '2', '3'), ('vehicle', 'technology', '2', '3', '4'), ('technology', '2', '3', '4', 'he'), ('2', '3', '4', 'he', 'also'), ('3', '4', 'he', 'also', 'played'), ('4', 'he', 'also', 'played', 'a'), ('he', 'also', 'played', 'a', 'pivotal'), ('also', 'played', 'a', 'pivotal', 'organisational'), ('played', 'a', 'pivotal', 'organisational', 'technical'), ('a', 'pivotal', 'organisational', 'technical', 'and'), ('pivotal', 'organisational', 'technical', 'and', 'political'), ('organisational', 'technical', 'and', 'political', 'role'), ('technical', 'and', 'political', 'role', 'in'), ('and', 'political', 'role', 'in', 'india'), ('political', 'role', 'in', 'india', 's'), ('role', 'in', 'india', 's', 'pokhran'), ('in', 'india', 's', 'pokhran', 'ii'), ('india', 's', 'pokhran', 'ii', 'nuclear'), ('s', 'pokhran', 'ii', 'nuclear', 'tests'), ('pokhran', 'ii', 'nuclear', 'tests', 'in'), ('ii', 'nuclear', 'tests', 'in', '1998'), ('nuclear', 'tests', 'in', '1998', 'the'), ('tests', 'in', '1998', 'the', 'first'), ('in', '1998', 'the', 'first', 'since'), ('1998', 'the', 'first', 'since', 'the'), ('the', 'first', 'since', 'the', 'original'), ('first', 'since', 'the', 'original', 'nuclear'), ('since', 'the', 'original', 'nuclear', 'test'), ('the', 'original', 'nuclear', 'test', 'by'), ('original', 'nuclear', 'test', 'by', 'india'), ('nuclear', 'test', 'by', 'india', 'in'), ('test', 'by', 'india', 'in', '1974'), ('by', 'india', 'in', '1974', '5')]\n"
     ]
    }
   ],
   "source": [
    "print(output)"
   ]
  },
  {
   "cell_type": "code",
   "execution_count": 10,
   "metadata": {},
   "outputs": [
    {
     "data": {
      "text/plain": [
       "835"
      ]
     },
     "execution_count": 10,
     "metadata": {},
     "output_type": "execute_result"
    }
   ],
   "source": [
    "len(s)"
   ]
  },
  {
   "cell_type": "code",
   "execution_count": null,
   "metadata": {},
   "outputs": [],
   "source": []
  }
 ],
 "metadata": {
  "kernelspec": {
   "display_name": "Python 3",
   "language": "python",
   "name": "python3"
  },
  "language_info": {
   "codemirror_mode": {
    "name": "ipython",
    "version": 3
   },
   "file_extension": ".py",
   "mimetype": "text/x-python",
   "name": "python",
   "nbconvert_exporter": "python",
   "pygments_lexer": "ipython3",
   "version": "3.7.3"
  }
 },
 "nbformat": 4,
 "nbformat_minor": 2
}
